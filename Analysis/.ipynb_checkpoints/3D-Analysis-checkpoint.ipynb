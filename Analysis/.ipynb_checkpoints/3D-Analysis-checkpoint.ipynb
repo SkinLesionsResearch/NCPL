{
 "cells": [
  {
   "cell_type": "code",
   "execution_count": 13,
   "id": "918b7464",
   "metadata": {},
   "outputs": [],
   "source": [
    "#方法一，利用关键字\n",
    "import numpy as np\n",
    "from matplotlib import pyplot as plt\n",
    "from mpl_toolkits.mplot3d import Axes3D\n",
    "import os, sys\n",
    "import pandas as pd\n",
    "\n",
    "os.chdir(\"/home/jackie/ResearchArea/SkinCancerResearch/semi_skin_cancer\")\n",
    "sys.path.append(\"/home/jackie/ResearchArea/SkinCancerResearch/semi_skin_cancer\")"
   ]
  },
  {
   "cell_type": "code",
   "execution_count": 21,
   "id": "515a2474",
   "metadata": {},
   "outputs": [
    {
     "data": {
      "text/html": [
       "<div>\n",
       "<style scoped>\n",
       "    .dataframe tbody tr th:only-of-type {\n",
       "        vertical-align: middle;\n",
       "    }\n",
       "\n",
       "    .dataframe tbody tr th {\n",
       "        vertical-align: top;\n",
       "    }\n",
       "\n",
       "    .dataframe thead th {\n",
       "        text-align: right;\n",
       "    }\n",
       "</style>\n",
       "<table border=\"1\" class=\"dataframe\">\n",
       "  <thead>\n",
       "    <tr style=\"text-align: right;\">\n",
       "      <th></th>\n",
       "      <th>num_labeled</th>\n",
       "      <th>lambda_param</th>\n",
       "      <th>w</th>\n",
       "      <th>Accuracy</th>\n",
       "      <th>Kappa</th>\n",
       "      <th>f1-score</th>\n",
       "      <th>recall</th>\n",
       "      <th>precision</th>\n",
       "    </tr>\n",
       "  </thead>\n",
       "  <tbody>\n",
       "    <tr>\n",
       "      <th>0</th>\n",
       "      <td>500.0</td>\n",
       "      <td>0.1</td>\n",
       "      <td>0.9</td>\n",
       "      <td>0.7424</td>\n",
       "      <td>0.5519</td>\n",
       "      <td>0.7105</td>\n",
       "      <td>0.6980</td>\n",
       "      <td>0.7424</td>\n",
       "    </tr>\n",
       "    <tr>\n",
       "      <th>1</th>\n",
       "      <td>500.0</td>\n",
       "      <td>0.3</td>\n",
       "      <td>0.7</td>\n",
       "      <td>0.7670</td>\n",
       "      <td>0.6254</td>\n",
       "      <td>0.7474</td>\n",
       "      <td>0.7517</td>\n",
       "      <td>0.7670</td>\n",
       "    </tr>\n",
       "    <tr>\n",
       "      <th>2</th>\n",
       "      <td>500.0</td>\n",
       "      <td>0.4</td>\n",
       "      <td>0.6</td>\n",
       "      <td>0.7740</td>\n",
       "      <td>0.6869</td>\n",
       "      <td>0.7618</td>\n",
       "      <td>0.7674</td>\n",
       "      <td>0.7740</td>\n",
       "    </tr>\n",
       "    <tr>\n",
       "      <th>3</th>\n",
       "      <td>500.0</td>\n",
       "      <td>0.5</td>\n",
       "      <td>0.5</td>\n",
       "      <td>0.7740</td>\n",
       "      <td>0.6863</td>\n",
       "      <td>0.7611</td>\n",
       "      <td>0.7575</td>\n",
       "      <td>0.7740</td>\n",
       "    </tr>\n",
       "    <tr>\n",
       "      <th>4</th>\n",
       "      <td>500.0</td>\n",
       "      <td>0.6</td>\n",
       "      <td>0.4</td>\n",
       "      <td>0.7758</td>\n",
       "      <td>0.7007</td>\n",
       "      <td>0.7643</td>\n",
       "      <td>0.7603</td>\n",
       "      <td>0.7758</td>\n",
       "    </tr>\n",
       "    <tr>\n",
       "      <th>5</th>\n",
       "      <td>500.0</td>\n",
       "      <td>0.7</td>\n",
       "      <td>0.3</td>\n",
       "      <td>0.7714</td>\n",
       "      <td>0.6868</td>\n",
       "      <td>0.7657</td>\n",
       "      <td>0.7665</td>\n",
       "      <td>0.7714</td>\n",
       "    </tr>\n",
       "    <tr>\n",
       "      <th>6</th>\n",
       "      <td>500.0</td>\n",
       "      <td>0.9</td>\n",
       "      <td>0.1</td>\n",
       "      <td>0.7686</td>\n",
       "      <td>0.6930</td>\n",
       "      <td>0.7614</td>\n",
       "      <td>0.7579</td>\n",
       "      <td>0.7686</td>\n",
       "    </tr>\n",
       "  </tbody>\n",
       "</table>\n",
       "</div>"
      ],
      "text/plain": [
       "   num_labeled  lambda_param    w  Accuracy   Kappa  f1-score  recall  \\\n",
       "0        500.0           0.1  0.9    0.7424  0.5519    0.7105  0.6980   \n",
       "1        500.0           0.3  0.7    0.7670  0.6254    0.7474  0.7517   \n",
       "2        500.0           0.4  0.6    0.7740  0.6869    0.7618  0.7674   \n",
       "3        500.0           0.5  0.5    0.7740  0.6863    0.7611  0.7575   \n",
       "4        500.0           0.6  0.4    0.7758  0.7007    0.7643  0.7603   \n",
       "5        500.0           0.7  0.3    0.7714  0.6868    0.7657  0.7665   \n",
       "6        500.0           0.9  0.1    0.7686  0.6930    0.7614  0.7579   \n",
       "\n",
       "   precision  \n",
       "0     0.7424  \n",
       "1     0.7670  \n",
       "2     0.7740  \n",
       "3     0.7740  \n",
       "4     0.7758  \n",
       "5     0.7714  \n",
       "6     0.7686  "
      ]
     },
     "execution_count": 21,
     "metadata": {},
     "output_type": "execute_result"
    }
   ],
   "source": [
    "df = pd.read_csv(\"latex_generator/acfi_res.csv\")\n",
    "df_max_acc_idx = df.groupby(by=[\"num_labeled\", \"lambda_param\", \"w\"])[\"Accuracy\"].idxmax()\n",
    "df = df.iloc[df_max_acc_idx].reset_index(drop=True)\n",
    "df = df[df[\"num_labeled\"]==500].reset_index(drop=True)\n",
    "df"
   ]
  },
  {
   "cell_type": "code",
   "execution_count": 54,
   "id": "4234461d",
   "metadata": {},
   "outputs": [
    {
     "name": "stdout",
     "output_type": "stream",
     "text": [
      "(7, 7) ,  (7, 7)\n",
      "(7, 7)\n"
     ]
    },
    {
     "data": {
      "image/png": "[encoded data removed]",
      "text/plain": [
       "<Figure size 432x288 with 1 Axes>"
      ]
     },
     "metadata": {
      "needs_background": "light"
     },
     "output_type": "display_data"
    }
   ],
   "source": [
    "fig = plt.figure()  #定义新的三维坐标轴\n",
    "ax3 = plt.axes(projection='3d')\n",
    "\n",
    "#定义三维数据\n",
    "xx = np.arange(-5,5,0.5)\n",
    "yy = np.arange(-5,5,0.5)\n",
    "X, Y = np.meshgrid(xx, yy)\n",
    "Z = np.sin(X)+np.cos(Y)\n",
    "\n",
    "xx = df[\"lambda_param\"]\n",
    "yy = df[\"w\"]\n",
    "X, Y = np.meshgrid(xx, yy)\n",
    "Z = np.sin(X)+np.cos(Y)\n",
    "# Z = np.array(np.meshgrid(df[\"Accuracy\"]))\n",
    "\n",
    "print(np.sin(X).shape, \", \", np.cos(Y).shape)\n",
    "print(Z.shape)\n",
    "#作图\n",
    "ax3.plot_surface(X,Y,Z,cmap='rainbow')\n",
    "#ax3.contour(X,Y,Z, zdim='z',offset=-2，cmap='rainbow)   #等高线图，要设置offset，为Z的最小值\n",
    "plt.show()\n"
   ]
  },
  {
   "cell_type": "code",
   "execution_count": 53,
   "id": "3f14d984",
   "metadata": {},
   "outputs": [
    {
     "data": {
      "text/plain": [
       "(20, 20)"
      ]
     },
     "execution_count": 53,
     "metadata": {},
     "output_type": "execute_result"
    }
   ],
   "source": [
    "X.shape"
   ]
  },
  {
   "cell_type": "code",
   "execution_count": 58,
   "id": "79b314c7",
   "metadata": {},
   "outputs": [
    {
     "data": {
      "text/plain": [
       "0    0.1\n",
       "1    0.3\n",
       "2    0.4\n",
       "3    0.5\n",
       "4    0.6\n",
       "5    0.7\n",
       "6    0.9\n",
       "Name: lambda_param, dtype: float64"
      ]
     },
     "execution_count": 58,
     "metadata": {},
     "output_type": "execute_result"
    }
   ],
   "source": [
    "xx"
   ]
  },
  {
   "cell_type": "code",
   "execution_count": 59,
   "id": "598861ab",
   "metadata": {},
   "outputs": [
    {
     "data": {
      "text/plain": [
       "array([[0.1, 0.3, 0.4, 0.5, 0.6, 0.7, 0.9],\n",
       "       [0.1, 0.3, 0.4, 0.5, 0.6, 0.7, 0.9],\n",
       "       [0.1, 0.3, 0.4, 0.5, 0.6, 0.7, 0.9],\n",
       "       [0.1, 0.3, 0.4, 0.5, 0.6, 0.7, 0.9],\n",
       "       [0.1, 0.3, 0.4, 0.5, 0.6, 0.7, 0.9],\n",
       "       [0.1, 0.3, 0.4, 0.5, 0.6, 0.7, 0.9],\n",
       "       [0.1, 0.3, 0.4, 0.5, 0.6, 0.7, 0.9]])"
      ]
     },
     "execution_count": 59,
     "metadata": {},
     "output_type": "execute_result"
    }
   ],
   "source": [
    "X"
   ]
  },
  {
   "cell_type": "code",
   "execution_count": 61,
   "id": "b0b7c909",
   "metadata": {},
   "outputs": [
    {
     "ename": "FileNotFoundError",
     "evalue": "[Errno 2] No such file or directory: '3d-Analysis-Example.png'",
     "output_type": "error",
     "traceback": [
      "\u001b[0;31m---------------------------------------------------------------------------\u001b[0m",
      "\u001b[0;31mFileNotFoundError\u001b[0m                         Traceback (most recent call last)",
      "\u001b[0;32m~/tmp/ipykernel_13522/2068980064.py\u001b[0m in \u001b[0;36m<module>\u001b[0;34m\u001b[0m\n\u001b[1;32m      4\u001b[0m \u001b[0;34m\u001b[0m\u001b[0m\n\u001b[1;32m      5\u001b[0m \u001b[0mget_ipython\u001b[0m\u001b[0;34m(\u001b[0m\u001b[0;34m)\u001b[0m\u001b[0;34m.\u001b[0m\u001b[0mrun_line_magic\u001b[0m\u001b[0;34m(\u001b[0m\u001b[0;34m'matplotlib'\u001b[0m\u001b[0;34m,\u001b[0m \u001b[0;34m'inline'\u001b[0m\u001b[0;34m)\u001b[0m\u001b[0;34m\u001b[0m\u001b[0;34m\u001b[0m\u001b[0m\n\u001b[0;32m----> 6\u001b[0;31m \u001b[0mpil_im\u001b[0m \u001b[0;34m=\u001b[0m \u001b[0mImage\u001b[0m\u001b[0;34m.\u001b[0m\u001b[0mopen\u001b[0m\u001b[0;34m(\u001b[0m\u001b[0;34m'3d-Analysis-Example.png'\u001b[0m\u001b[0;34m,\u001b[0m \u001b[0;34m'r'\u001b[0m\u001b[0;34m)\u001b[0m\u001b[0;34m\u001b[0m\u001b[0;34m\u001b[0m\u001b[0m\n\u001b[0m\u001b[1;32m      7\u001b[0m \u001b[0mimshow\u001b[0m\u001b[0;34m(\u001b[0m\u001b[0mnp\u001b[0m\u001b[0;34m.\u001b[0m\u001b[0masarray\u001b[0m\u001b[0;34m(\u001b[0m\u001b[0mpil_im\u001b[0m\u001b[0;34m)\u001b[0m\u001b[0;34m)\u001b[0m\u001b[0;34m\u001b[0m\u001b[0;34m\u001b[0m\u001b[0m\n",
      "\u001b[0;32m~/anaconda3/envs/ups/lib/python3.8/site-packages/PIL/Image.py\u001b[0m in \u001b[0;36mopen\u001b[0;34m(fp, mode, formats)\u001b[0m\n\u001b[1;32m   2910\u001b[0m \u001b[0;34m\u001b[0m\u001b[0m\n\u001b[1;32m   2911\u001b[0m     \u001b[0;32mif\u001b[0m \u001b[0mfilename\u001b[0m\u001b[0;34m:\u001b[0m\u001b[0;34m\u001b[0m\u001b[0;34m\u001b[0m\u001b[0m\n\u001b[0;32m-> 2912\u001b[0;31m         \u001b[0mfp\u001b[0m \u001b[0;34m=\u001b[0m \u001b[0mbuiltins\u001b[0m\u001b[0;34m.\u001b[0m\u001b[0mopen\u001b[0m\u001b[0;34m(\u001b[0m\u001b[0mfilename\u001b[0m\u001b[0;34m,\u001b[0m \u001b[0;34m\"rb\"\u001b[0m\u001b[0;34m)\u001b[0m\u001b[0;34m\u001b[0m\u001b[0;34m\u001b[0m\u001b[0m\n\u001b[0m\u001b[1;32m   2913\u001b[0m         \u001b[0mexclusive_fp\u001b[0m \u001b[0;34m=\u001b[0m \u001b[0;32mTrue\u001b[0m\u001b[0;34m\u001b[0m\u001b[0;34m\u001b[0m\u001b[0m\n\u001b[1;32m   2914\u001b[0m \u001b[0;34m\u001b[0m\u001b[0m\n",
      "\u001b[0;31mFileNotFoundError\u001b[0m: [Errno 2] No such file or directory: '3d-Analysis-Example.png'"
     ]
    }
   ],
   "source": [
    "from matplotlib.pyplot import imshow\n",
    "import numpy as np\n",
    "from PIL import Image\n",
    "\n",
    "%matplotlib inline\n",
    "pil_im = Image.open('Analysis/3d-Analysis-Example.png', 'r')\n",
    "imshow(np.asarray(pil_im))"
   ]
  },
  {
   "cell_type": "code",
   "execution_count": null,
   "id": "4c2cdfe7",
   "metadata": {},
   "outputs": [],
   "source": []
  }
 ],
 "metadata": {
  "kernelspec": {
   "display_name": "ups",
   "language": "python",
   "name": "ups"
  },
  "language_info": {
   "codemirror_mode": {
    "name": "ipython",
    "version": 3
   },
   "file_extension": ".py",
   "mimetype": "text/x-python",
   "name": "python",
   "nbconvert_exporter": "python",
   "pygments_lexer": "ipython3",
   "version": "3.8.10"
  }
 },
 "nbformat": 4,
 "nbformat_minor": 5
}
